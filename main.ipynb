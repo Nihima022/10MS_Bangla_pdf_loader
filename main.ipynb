{
 "cells": [
  {
   "cell_type": "code",
   "execution_count": null,
   "id": "05810d11",
   "metadata": {
    "vscode": {
     "languageId": "plaintext"
    }
   },
   "outputs": [],
   "source": [
    "!apt install tesseract-ocr -y\n",
    "!apt install tesseract-ocr-ben -y\n",
    "!apt install poppler-utils -y\n",
    "!pip install pytesseract pdf2image"
   ]
  },
  {
   "cell_type": "code",
   "execution_count": null,
   "id": "1c368fc2",
   "metadata": {
    "vscode": {
     "languageId": "plaintext"
    }
   },
   "outputs": [],
   "source": [
    "# Installation of packages\n",
    "!pip install langchain\n",
    "#framework that use LLM and tools to build agent\n",
    "!pip install langchain_community\n",
    "#supportive tools(PDF loader,Web loader) for langchain\n",
    "!pip install langchain_core\n",
    "#for minimal and low level control\n",
    "!pip install langchain_openai\n",
    "#bridge between langchain and openai\n",
    "!pip install transformers\n",
    "#pretrained brain(LLM,encode,tokenize)for chatbot\n",
    "!pip install sentence_transformers\n",
    "#use for converting text into vectors\n",
    "!pip install faiss-cpu\n",
    "#for semantic search in vector database\n",
    "!pip install pypdf\n",
    "#for reading PDF and text extraction\n",
    "!pip install fastapi\n",
    "#building a backend service that responds to HTTP requests like GET, POST, etc\n",
    "!pip install uvicorn\n",
    "#server that runs your API so it can receive and respond to requests.\n",
    "!pip install gdown\n",
    "#for PDF dowload from drivet\n",
    "!pip install google-generativeai"
   ]
  },
  {
   "cell_type": "code",
   "execution_count": null,
   "id": "8bb73eb2",
   "metadata": {
    "vscode": {
     "languageId": "plaintext"
    }
   },
   "outputs": [],
   "source": [
    "#Import Libraries\n",
    "import os\n",
    "import re\n",
    "import gdown\n",
    "from langchain.text_splitter import RecursiveCharacterTextSplitter\n",
    "from langchain.embeddings import HuggingFaceEmbeddings\n",
    "from langchain.vectorstores import FAISS\n",
    "from langchain.chat_models import ChatOpenAI\n",
    "from langchain.chains import RetrievalQA\n",
    "from langchain.schema import Document\n",
    "from langchain.retrievers import ContextualCompressionRetriever\n",
    "from langchain.retrievers.document_compressors import LLMChainExtractor\n",
    "from langchain.memory import ConversationBufferMemory\n",
    "from langchain.chains import ConversationalRetrievalChain\n",
    "from pdf2image import convert_from_path\n",
    "import pytesseract\n",
    "from langchain.prompts import PromptTemplate\n",
    "from sklearn.metrics.pairwise import cosine_similarity\n",
    "from fastapi import FastAPI, Request"
   ]
  },
  {
   "cell_type": "code",
   "execution_count": null,
   "id": "ebae9214",
   "metadata": {
    "vscode": {
     "languageId": "plaintext"
    }
   },
   "outputs": [],
   "source": [
    "#Download PDF from google Drive\n",
    "pdf_url = \"https://drive.google.com/uc?id=19h7t3xVNBS5KR9o2sLMh3i2uaje7ww7n\"\n",
    "output = \"hsc26_bangla_1st_paper.pdf\"\n",
    "\n",
    "gdown.download(pdf_url,output,quiet=False)"
   ]
  },
  {
   "cell_type": "code",
   "execution_count": null,
   "id": "b920eb38",
   "metadata": {
    "vscode": {
     "languageId": "plaintext"
    }
   },
   "outputs": [],
   "source": [
    "#Document loading\n",
    "pytesseract.pytesseract.tesseract_cmd = \"/usr/bin/tesseract\"\n",
    "custom_config = r'--oem 3 --psm 6 -l ben'\n",
    "pages = convert_from_path(\"hsc26_bangla_1st_paper.pdf\",dpi=300)\n",
    "\n",
    "text = \"\"\n",
    "for i, page in enumerate(pages):\n",
    "    print(f\"Processing page {i+1}/{len(pages)}...\")\n",
    "    extracted = pytesseract.image_to_string(page, config=custom_config)\n",
    "    text += extracted + \"\\n\\n\"\n",
    "\n",
    "with open(\"ocr_output.txt\", \"w\", encoding=\"utf-8\") as f:\n",
    "    f.write(text)\n",
    "\n",
    "ocr_doc = [Document(page_content=text)]"
   ]
  },
  {
   "cell_type": "code",
   "execution_count": null,
   "id": "4995b018",
   "metadata": {
    "vscode": {
     "languageId": "plaintext"
    }
   },
   "outputs": [],
   "source": [
    "print(\"✅ Sample Bangla OCR Output:\\n\")\n",
    "print(text[:1000])"
   ]
  },
  {
   "cell_type": "code",
   "execution_count": null,
   "id": "d4f98c41",
   "metadata": {
    "vscode": {
     "languageId": "plaintext"
    }
   },
   "outputs": [],
   "source": [
    "#Clean the text function\n",
    "def clean_ocr_text(text):\n",
    "  text = re.sub(r'\\n+', '\\n', text)\n",
    "  text = re.sub(r'([^\\n])\\n([^\\n])', r'\\1 \\2', text)\n",
    "  text = re.sub(r'[^\\x00-\\x7F\\u0980-\\u09FF]+', ' ', text)\n",
    "  text = re.sub(r'\\s{2,}', ' ', text)\n",
    "  return text.strip()\n",
    "\n",
    "cleaned_text = clean_ocr_text(text)"
   ]
  },
  {
   "cell_type": "code",
   "execution_count": null,
   "id": "e0dc5f1a",
   "metadata": {
    "vscode": {
     "languageId": "plaintext"
    }
   },
   "outputs": [],
   "source": [
    "ocr_cleaned_document= [Document(page_content=cleaned_text)]"
   ]
  },
  {
   "cell_type": "code",
   "execution_count": null,
   "id": "62cbe0fe",
   "metadata": {
    "vscode": {
     "languageId": "plaintext"
    }
   },
   "outputs": [],
   "source": [
    "print(\"Cleaned OCR text sample:\\n\")\n",
    "print(cleaned_text[:1000])"
   ]
  },
  {
   "cell_type": "code",
   "execution_count": null,
   "id": "71152ab9",
   "metadata": {
    "vscode": {
     "languageId": "plaintext"
    }
   },
   "outputs": [],
   "source": [
    "with open(\"ocr_cleaned_output.txt\", \"w\", encoding=\"utf-8\") as f:\n",
    "    f.write(cleaned_text)\n"
   ]
  },
  {
   "cell_type": "code",
   "execution_count": null,
   "id": "98e01f83",
   "metadata": {
    "vscode": {
     "languageId": "plaintext"
    }
   },
   "outputs": [],
   "source": [
    "#Create chunk from the cleaned text\n",
    "splitter=RecursiveCharacterTextSplitter(\n",
    "    chunk_size=1000,\n",
    "    chunk_overlap=150,\n",
    "    separators=[\"\\n\\n\", \"।\", \"\\n\", \" \", \"\"]\n",
    ")\n",
    "\n",
    "chunk_document=splitter.split_documents(ocr_cleaned_document)"
   ]
  },
  {
   "cell_type": "code",
   "execution_count": null,
   "id": "015feda7",
   "metadata": {
    "vscode": {
     "languageId": "plaintext"
    }
   },
   "outputs": [],
   "source": [
    "len(chunk_document)"
   ]
  },
  {
   "cell_type": "code",
   "execution_count": null,
   "id": "1b4ef24f",
   "metadata": {
    "vscode": {
     "languageId": "plaintext"
    }
   },
   "outputs": [],
   "source": [
    "for i, chunk in enumerate(chunk_document[:3]):\n",
    "    print(f\"--- Chunk {i+1} ---\\n{chunk.page_content}\\n\")\n"
   ]
  },
  {
   "cell_type": "code",
   "execution_count": null,
   "id": "4fbb5f87",
   "metadata": {
    "vscode": {
     "languageId": "plaintext"
    }
   },
   "outputs": [],
   "source": [
    "chunk_document[1]"
   ]
  },
  {
   "cell_type": "code",
   "execution_count": null,
   "id": "2fa95d18",
   "metadata": {
    "vscode": {
     "languageId": "plaintext"
    }
   },
   "outputs": [],
   "source": [
    "#Setup Embedding model\n",
    "embedding_model=HuggingFaceEmbeddings(model_name=\"sentence-transformers/paraphrase-multilingual-MiniLM-L12-v2\")"
   ]
  },
  {
   "cell_type": "code",
   "execution_count": null,
   "id": "04c52369",
   "metadata": {
    "vscode": {
     "languageId": "plaintext"
    }
   },
   "outputs": [],
   "source": [
    "# Convert text into vector\n",
    "vector_store=FAISS.from_documents(chunk_document,embedding_model)"
   ]
  },
  {
   "cell_type": "code",
   "execution_count": null,
   "id": "d51d555c",
   "metadata": {
    "vscode": {
     "languageId": "plaintext"
    }
   },
   "outputs": [],
   "source": [
    "# Save vector store to disk\n",
    "vector_store.save_local(\"FAISS_index_vector_store_hsc_bangla_pdf\")"
   ]
  },
  {
   "cell_type": "code",
   "execution_count": null,
   "id": "91d0999e",
   "metadata": {
    "vscode": {
     "languageId": "plaintext"
    }
   },
   "outputs": [],
   "source": [
    "load_document=FAISS.load_local(\n",
    "    \"FAISS_index_vector_store_hsc_bangla_pdf\",\n",
    "    embedding_model,\n",
    "    allow_dangerous_deserialization=True\n",
    ")"
   ]
  },
  {
   "cell_type": "code",
   "execution_count": null,
   "id": "1b744e0b",
   "metadata": {
    "vscode": {
     "languageId": "plaintext"
    }
   },
   "outputs": [],
   "source": [
    "#Create the retriver\n",
    "retriever=load_document.as_retriever(\n",
    "    search_type=\"similarity\",\n",
    "    search_kwargs={\"k\":5}\n",
    ")"
   ]
  },
  {
   "cell_type": "code",
   "execution_count": null,
   "id": "956154b1",
   "metadata": {
    "vscode": {
     "languageId": "plaintext"
    }
   },
   "outputs": [],
   "source": [
    "#create a LLM\n",
    "token = input(\"Enter your API Key\")\n",
    "os.environ[\"OPENAI_API_KEY\"] = token\n",
    "\n",
    "llm = ChatOpenAI(\n",
    "    model_name=\"gpt-3.5-turbo\",\n",
    "    base_url=\"https://api.openai.com/v1\",\n",
    "    api_key=token,\n",
    "    temperature=0.7\n",
    ")\n",
    "\n",
    "\n"
   ]
  },
  {
   "cell_type": "code",
   "execution_count": null,
   "id": "942fa4ef",
   "metadata": {
    "vscode": {
     "languageId": "plaintext"
    }
   },
   "outputs": [],
   "source": [
    "#create compressor\n",
    "compressor=LLMChainExtractor.from_llm(llm)\n",
    "#create compressed retriver\n",
    "compressed_retriver=ContextualCompressionRetriever(\n",
    "    base_compressor=compressor,\n",
    "    base_retriever=retriever\n",
    ")"
   ]
  },
  {
   "cell_type": "code",
   "execution_count": null,
   "id": "f9248cb8",
   "metadata": {
    "vscode": {
     "languageId": "plaintext"
    }
   },
   "outputs": [],
   "source": [
    "#Prompt template\n",
    "prompt = PromptTemplate(\n",
    "    input_variables=[\"context\", \"question\"],\n",
    "    template=\"\"\"\n",
    "তুমি একজন সহায়ক শিক্ষক। নিচের ডকুমেন্ট অংশের ভিত্তিতে প্রশ্নের উত্তর দাও।\n",
    "শুধু ডকুমেন্টের তথ্য ব্যবহার করো, নিজে কিছু যোগ করো না।\n",
    "\n",
    "ডকুমেন্ট:\n",
    "{context}\n",
    "\n",
    "প্রশ্ন:\n",
    "{question}\n",
    "\n",
    "উত্তর বাংলায় সংক্ষেপে দাও:\n",
    "\"\"\"\n",
    ")"
   ]
  },
  {
   "cell_type": "code",
   "execution_count": null,
   "id": "c9179bfa",
   "metadata": {
    "vscode": {
     "languageId": "plaintext"
    }
   },
   "outputs": [],
   "source": [
    "#Memory Intregration\n",
    "memory = ConversationBufferMemory(\n",
    "    memory_key=\"chat_history\",\n",
    "    return_messages=True,\n",
    "    output_key=\"answer\")"
   ]
  },
  {
   "cell_type": "code",
   "execution_count": null,
   "id": "5bc10be5",
   "metadata": {
    "vscode": {
     "languageId": "plaintext"
    }
   },
   "outputs": [],
   "source": [
    "#Create a chain to connect all\n",
    "conversational_chain = ConversationalRetrievalChain.from_llm(\n",
    "    llm=llm,\n",
    "    retriever=compressed_retriver,\n",
    "    memory=memory,\n",
    "    return_source_documents=True,\n",
    "    combine_docs_chain_kwargs={\"prompt\": prompt}\n",
    ")"
   ]
  },
  {
   "cell_type": "code",
   "execution_count": null,
   "id": "65295179",
   "metadata": {
    "vscode": {
     "languageId": "plaintext"
    }
   },
   "outputs": [],
   "source": [
    "#Testing\n",
    "questions = [\n",
    "    \"অনপুেমর ভাষায় সুপুরুষ কাকে বলা হয়েছে?\",\n",
    "    \"কে অনপুেমর ভাগ্য দেবতা বলে উল্লেখ করা হয়েছে?\",\n",
    "    \"বিয়ের সময় কল্যাণীর প্রকৃত বয়স কত ছিল?\"\n",
    "]"
   ]
  },
  {
   "cell_type": "code",
   "execution_count": null,
   "id": "27c304d9",
   "metadata": {
    "vscode": {
     "languageId": "plaintext"
    }
   },
   "outputs": [],
   "source": [
    "#testing-1\n",
    "question = \"অনুপেমর ভাষায় সুপুরুষ কােক বলা হেয়েছ?\"\n",
    "result = conversational_chain.invoke({\"question\": question})\n",
    "print(\"Answer:\", result[\"answer\"])"
   ]
  },
  {
   "cell_type": "code",
   "execution_count": null,
   "id": "b127c811",
   "metadata": {
    "vscode": {
     "languageId": "plaintext"
    }
   },
   "outputs": [],
   "source": []
  }
 ],
 "metadata": {
  "language_info": {
   "name": "python"
  }
 },
 "nbformat": 4,
 "nbformat_minor": 5
}
